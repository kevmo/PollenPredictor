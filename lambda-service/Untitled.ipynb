{
 "cells": [
  {
   "cell_type": "code",
   "execution_count": 2,
   "id": "521b2f84-2b3b-404b-942a-67145f9a5c0c",
   "metadata": {},
   "outputs": [],
   "source": [
    "import wget"
   ]
  },
  {
   "cell_type": "code",
   "execution_count": 4,
   "id": "4001369a-7ebe-479a-a474-79c711aabd44",
   "metadata": {},
   "outputs": [
    {
     "name": "stdout",
     "output_type": "stream",
     "text": [
      "100% [........................................................................] 89753864 / 89753864"
     ]
    },
    {
     "data": {
      "text/plain": [
       "'./models/bees-wasps.h5'"
      ]
     },
     "execution_count": 4,
     "metadata": {},
     "output_type": "execute_result"
    }
   ],
   "source": [
    "keras_model_url = \"https://github.com/alexeygrigorev/large-datasets/releases/download/wasps-bees/bees-wasps.h5\"\n",
    "keras_model_path = \"./models/bees-wasps.h5\"\n",
    "\n",
    "wget.download(keras_model_url, keras_model_path)\n",
    "\n",
    "keras_model_path"
   ]
  },
  {
   "cell_type": "markdown",
   "id": "1a122e43-bd2b-47f7-8c9d-61e701394cc4",
   "metadata": {},
   "source": [
    "### Convert to tf-lite"
   ]
  },
  {
   "cell_type": "code",
   "execution_count": 5,
   "id": "378fcc49-9b7f-44a4-bd0d-c7f0a417a781",
   "metadata": {},
   "outputs": [
    {
     "name": "stderr",
     "output_type": "stream",
     "text": [
      "2023-11-28 15:58:52.009995: I tensorflow/core/platform/cpu_feature_guard.cc:182] This TensorFlow binary is optimized to use available CPU instructions in performance-critical operations.\n",
      "To enable the following instructions: AVX2 FMA, in other operations, rebuild TensorFlow with the appropriate compiler flags.\n"
     ]
    }
   ],
   "source": [
    "import tensorflow as tf\n",
    "from tensorflow.keras.models import load_model\n",
    "\n",
    "keras_model = load_model(keras_model_path)"
   ]
  },
  {
   "cell_type": "code",
   "execution_count": 6,
   "id": "45dc130c-df06-49ea-bd14-8f5e9699c721",
   "metadata": {},
   "outputs": [
    {
     "name": "stdout",
     "output_type": "stream",
     "text": [
      "INFO:tensorflow:Assets written to: /var/folders/x3/fy30qts964b_nfn299fxgj5r0000gn/T/tmpg5o78bt3/assets\n"
     ]
    },
    {
     "name": "stderr",
     "output_type": "stream",
     "text": [
      "INFO:tensorflow:Assets written to: /var/folders/x3/fy30qts964b_nfn299fxgj5r0000gn/T/tmpg5o78bt3/assets\n",
      "2023-11-28 16:00:20.900785: W tensorflow/compiler/mlir/lite/python/tf_tfl_flatbuffer_helpers.cc:378] Ignored output_format.\n",
      "2023-11-28 16:00:20.900809: W tensorflow/compiler/mlir/lite/python/tf_tfl_flatbuffer_helpers.cc:381] Ignored drop_control_dependency.\n",
      "2023-11-28 16:00:20.902790: I tensorflow/cc/saved_model/reader.cc:83] Reading SavedModel from: /var/folders/x3/fy30qts964b_nfn299fxgj5r0000gn/T/tmpg5o78bt3\n",
      "2023-11-28 16:00:20.904235: I tensorflow/cc/saved_model/reader.cc:51] Reading meta graph with tags { serve }\n",
      "2023-11-28 16:00:20.904256: I tensorflow/cc/saved_model/reader.cc:146] Reading SavedModel debug info (if present) from: /var/folders/x3/fy30qts964b_nfn299fxgj5r0000gn/T/tmpg5o78bt3\n",
      "2023-11-28 16:00:20.907724: I tensorflow/compiler/mlir/mlir_graph_optimization_pass.cc:388] MLIR V1 optimization pass is not enabled\n",
      "2023-11-28 16:00:20.908802: I tensorflow/cc/saved_model/loader.cc:233] Restoring SavedModel bundle.\n",
      "2023-11-28 16:00:21.036332: I tensorflow/cc/saved_model/loader.cc:217] Running initialization op on SavedModel bundle at path: /var/folders/x3/fy30qts964b_nfn299fxgj5r0000gn/T/tmpg5o78bt3\n",
      "2023-11-28 16:00:21.049942: I tensorflow/cc/saved_model/loader.cc:316] SavedModel load for tags { serve }; Status: success: OK. Took 147153 microseconds.\n",
      "2023-11-28 16:00:21.116137: I tensorflow/compiler/mlir/tensorflow/utils/dump_mlir_util.cc:269] disabling MLIR crash reproducer, set env var `MLIR_CRASH_REPRODUCER_DIRECTORY` to enable.\n",
      "Summary on the non-converted ops:\n",
      "---------------------------------\n",
      " * Accepted dialects: tfl, builtin, func\n",
      " * Non-Converted Ops: 7, Total Ops 16, % non-converted = 43.75 %\n",
      " * 7 ARITH ops\n",
      "\n",
      "- arith.constant:    7 occurrences  (f32: 6, i32: 1)\n",
      "\n",
      "\n",
      "\n",
      "  (f32: 1)\n",
      "  (f32: 2)\n",
      "  (f32: 1)\n",
      "  (f32: 1)\n",
      "  (f32: 1)\n"
     ]
    },
    {
     "data": {
      "text/plain": [
       "'./models/bees-wasps.tflite'"
      ]
     },
     "execution_count": 6,
     "metadata": {},
     "output_type": "execute_result"
    }
   ],
   "source": [
    "converter = tf.lite.TFLiteConverter.from_keras_model(keras_model)\n",
    "\n",
    "tflite_model = converter.convert()\n",
    "\n",
    "tflite_model_path = \"./models/bees-wasps.tflite\"\n",
    "\n",
    "with open(tflite_model_path, \"wb\") as f:\n",
    "    f.write(tflite_model)\n",
    "\n",
    "tflite_model_path"
   ]
  },
  {
   "cell_type": "code",
   "execution_count": 7,
   "id": "36892393-91a0-4336-b838-e08d2a463223",
   "metadata": {},
   "outputs": [
    {
     "name": "stdout",
     "output_type": "stream",
     "text": [
      "total 286272\n",
      "drwxr-xr-x  4 home  staff   128B Nov 28 16:00 \u001b[34m.\u001b[m\u001b[m\n",
      "drwxr-xr-x  5 home  staff   160B Nov 28 16:01 \u001b[34m..\u001b[m\u001b[m\n",
      "-rw-r--r--  1 home  staff    86M Nov 28 15:53 bees-wasps.h5\n",
      "-rw-r--r--  1 home  staff    43M Nov 28 16:00 bees-wasps.tflite\n"
     ]
    }
   ],
   "source": [
    "!ls -lah models"
   ]
  },
  {
   "cell_type": "markdown",
   "id": "ece75451-6429-4235-8d4e-2be431762ce9",
   "metadata": {},
   "source": [
    "### Examine input/output indexes"
   ]
  },
  {
   "cell_type": "code",
   "execution_count": 8,
   "id": "ceeaf16c-0823-451b-a19c-7219121aded7",
   "metadata": {},
   "outputs": [
    {
     "name": "stderr",
     "output_type": "stream",
     "text": [
      "INFO: Created TensorFlow Lite XNNPACK delegate for CPU.\n"
     ]
    },
    {
     "data": {
      "text/plain": [
       "[{'name': 'StatefulPartitionedCall:0',\n",
       "  'index': 13,\n",
       "  'shape': array([1, 1], dtype=int32),\n",
       "  'shape_signature': array([-1,  1], dtype=int32),\n",
       "  'dtype': numpy.float32,\n",
       "  'quantization': (0.0, 0),\n",
       "  'quantization_parameters': {'scales': array([], dtype=float32),\n",
       "   'zero_points': array([], dtype=int32),\n",
       "   'quantized_dimension': 0},\n",
       "  'sparsity_parameters': {}}]"
      ]
     },
     "execution_count": 8,
     "metadata": {},
     "output_type": "execute_result"
    }
   ],
   "source": [
    "# Step 4: Identify the output index for the TensorFlow Lite model\n",
    "interpreter = tf.lite.Interpreter(model_path=tflite_model_path)\n",
    "interpreter.allocate_tensors()\n",
    "\n",
    "# Get the output details\n",
    "output_details = interpreter.get_output_details()\n",
    "\n",
    "# Display the output details\n",
    "output_details\n"
   ]
  },
  {
   "cell_type": "code",
   "execution_count": null,
   "id": "5b849f05-5b66-46a9-8451-a44f216ed7ad",
   "metadata": {},
   "outputs": [],
   "source": []
  }
 ],
 "metadata": {
  "kernelspec": {
   "display_name": "Python 3 (ipykernel)",
   "language": "python",
   "name": "python3"
  },
  "language_info": {
   "codemirror_mode": {
    "name": "ipython",
    "version": 3
   },
   "file_extension": ".py",
   "mimetype": "text/x-python",
   "name": "python",
   "nbconvert_exporter": "python",
   "pygments_lexer": "ipython3",
   "version": "3.11.5"
  }
 },
 "nbformat": 4,
 "nbformat_minor": 5
}
